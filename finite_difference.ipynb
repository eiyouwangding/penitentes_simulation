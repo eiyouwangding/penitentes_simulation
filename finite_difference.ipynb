{
 "cells": [
  {
   "cell_type": "markdown",
   "id": "be9ec3f0-b7bb-49fa-b6b3-e82285d9af02",
   "metadata": {},
   "source": [
    "# Finite Difference Method"
   ]
  },
  {
   "cell_type": "markdown",
   "id": "13ce0f93-2ae3-4152-953a-ebd86df1749f",
   "metadata": {},
   "source": [
    "- replace derivatives in a differential equation with approximations\n",
    "- solve the resulting algebraic equations to get approximate solutions"
   ]
  },
  {
   "cell_type": "markdown",
   "id": "febdd872-06dd-4763-b4d1-d442697be5d3",
   "metadata": {},
   "source": [
    "## Example"
   ]
  },
  {
   "cell_type": "markdown",
   "id": "b222036d-e69f-4a22-8c99-2d4fd1d088e9",
   "metadata": {},
   "source": [
    "ode: \n",
    "$$f'=f \\\\ f(0)=1$$"
   ]
  },
  {
   "cell_type": "markdown",
   "id": "14c31100-4e78-43c2-b3ef-11db4209177e",
   "metadata": {},
   "source": [
    "approximation:\n",
    "$$\n",
    "f' \\approx \\frac{f(x+h)-f(x)}{h} \\\\\n",
    "\\frac{f(x+h)-f(x)}{h} = f(x) \\\\\n",
    "\\Rightarrow f(x+h) = (1+h)f(x) \\\\\n",
    "\\Rightarrow \\begin{cases}f_{k+1}=(1+h)f_{k} \\\\ f_{0}=1\\end{cases}\n",
    "$$"
   ]
  },
  {
   "cell_type": "markdown",
   "id": "fdb21dfa-fc5c-42f6-bd90-26b3ae21c806",
   "metadata": {},
   "source": [
    "# Numerically Solve 1D Heat Equation"
   ]
  },
  {
   "cell_type": "markdown",
   "id": "aed218d0-a0ba-450c-9802-846635318523",
   "metadata": {},
   "source": [
    "$$\n",
    "u_{t} = ku_{xx}\n",
    "$$"
   ]
  },
  {
   "cell_type": "markdown",
   "id": "c2dc66eb-924f-4d0e-a2fa-c05be4b7970a",
   "metadata": {},
   "source": [
    "Having\n",
    "$$\n",
    "u_{x}(x, t) = \\frac{u(x, t)-u(x-\\Delta x, t)}{\\Delta x} \\\\\n",
    "u_{x}(x+\\Delta x, t) = \\frac{u(x+\\Delta t, t)-u(x, t)}{\\Delta x}\n",
    "$$\n",
    "We have\n",
    "$$\n",
    "\\begin{align}\n",
    "u_{xx}(x, t) &= \\frac{u_{x}(x+\\Delta x, t)-u_{x}(x, t)}{\\Delta x} \\\\\n",
    "&= \\frac{\\frac{u(x+\\Delta t, t)-u(x, t)}{\\Delta x}-\\frac{u(x, t)-u(x-\\Delta x, t)}{\\Delta x}}{\\Delta x} \\\\\n",
    "&= \\frac{u(x+\\Delta x, t)-2u(x, t)+u(x-\\Delta x, t)}{(\\Delta x)^{2}}\n",
    "\\end{align} \n",
    "$$"
   ]
  },
  {
   "cell_type": "markdown",
   "id": "f44292ca-c612-4add-8edd-026af6ba6fef",
   "metadata": {},
   "source": [
    "Then we have\n",
    "$$\n",
    "\\frac{u(x, t+\\Delta t)-u(x, t)}{\\Delta t} \\approx k\\frac{u(x+\\Delta x, t)-2u(x, t)+u(x-\\Delta x, t)}{(\\Delta x)^{2}} \\\\\n",
    "u(x, t+\\Delta t) = u(x, t) +\\alpha\\left[u(x+\\Delta x, t)-2u(x, t)+u(x-\\Delta x, t)\\right]\n",
    "$$\n",
    "where $\\alpha = \\frac{k\\Delta t}{(\\Delta x)^{2}}$"
   ]
  },
  {
   "cell_type": "markdown",
   "id": "6f45350d-0602-4e9e-b42e-8e2560a11172",
   "metadata": {},
   "source": [
    "Let\n",
    "$$\n",
    "x_{i} = i\\Delta x \\\\\n",
    "t_{i} = j \\Delta t\n",
    "$$\n",
    "The equation can be written as\n",
    "$$\n",
    "u_{i, j+1} = u_{i, j} + \\alpha(u_{i+1,j}-2u_{i, j}+u_{i-1, j})\n",
    "$$"
   ]
  },
  {
   "cell_type": "markdown",
   "id": "e5980d68-712b-4007-b39a-e260386ce325",
   "metadata": {},
   "source": [
    "# Numerically Solve 2D Heat Equation"
   ]
  },
  {
   "cell_type": "markdown",
   "id": "4f32d4f8-2f39-49bb-b0da-64a6d2a22579",
   "metadata": {},
   "source": [
    "$$\n",
    "u_{t} = k(u_{xx}+u_{yy})\n",
    "$$"
   ]
  },
  {
   "cell_type": "markdown",
   "id": "74575b41-5fa2-4266-a18e-b47cd850ebe5",
   "metadata": {},
   "source": [
    "Let\n",
    "$$\n",
    "x_{i} = i\\Delta x \\\\\n",
    "y_{j} = j\\Delta y \\\\\n",
    "t_{k} = k\\Delta t\n",
    "$$\n",
    "where i, j, and k are the steps for each difference for x, y, and t respectively. We seek for the solution\n",
    "$$\n",
    "u(t, x, y) = u_{i,j}^{k}\n",
    "$$\n",
    "We can write the heat equation above using finite-difference method like this\n",
    "$$\n",
    "\\frac{u_{i, j}^{k+1}-u_{i, j}^{k}}{\\Delta t} = k\\left[\\frac{u_{i+1, j}^{k}-2u_{i, j}^{k}+u_{i-1, j}^{k}}{(\\Delta x)^{2}}+\\frac{u_{i+1, j}^{k}-2u_{i, j}^{k}+u_{i-1, j}^{k}}{(\\Delta y)^{2}}\\right]\n",
    "$$\n",
    "Taking $\\Delta x = \\Delta y$\n",
    "$$\n",
    "u_{i, j}^{k+1} = \\gamma(u_{i+1, j}^{k}+u_{i-1, j}^{k}+u_{i, j+1}^{k}+u_{i, j-1}^{k}-4u_{i, j}^{k})+u_{i, j}^{k}\n",
    "$$\n",
    "where $\\gamma = k \\frac{\\Delta t}{\\Delta x^{2}}$"
   ]
  },
  {
   "cell_type": "markdown",
   "id": "448f0369-b3ed-410e-8e7c-96325bd1bf61",
   "metadata": {},
   "source": [
    "Initial and Boundary Conditions"
   ]
  },
  {
   "cell_type": "markdown",
   "id": "bdf6a3e9-622a-475a-b2f1-00e29a58a53d",
   "metadata": {},
   "source": [
    "$$\n",
    "u(x, y, 0) = 0 \\\\\n",
    "u(0, y, t) = u(a, y, t) = u(x, 0, t) = 0 \\\\\n",
    "u(x, b, t) = 100\n",
    "$$"
   ]
  },
  {
   "cell_type": "markdown",
   "id": "d578a97a-690b-4c35-b9ac-57eb912a3730",
   "metadata": {},
   "source": [
    "![avatar](initial_condition.png)"
   ]
  },
  {
   "cell_type": "code",
   "execution_count": 3,
   "id": "620a820d-63b6-4434-8a2e-dcf9b69eee0e",
   "metadata": {
    "tags": []
   },
   "outputs": [],
   "source": [
    "import numpy as np\n",
    "import matplotlib.pyplot as plt\n",
    "import matplotlib.animation as animation\n",
    "from matplotlib.animation import FuncAnimation\n",
    "import math\n",
    "from scipy.stats import linregress\n",
    "import scipy.integrate as integrate"
   ]
  },
  {
   "cell_type": "code",
   "execution_count": 83,
   "id": "94e1a813-0db7-4321-aa57-384dad671389",
   "metadata": {},
   "outputs": [],
   "source": [
    "plate_length = 50\n",
    "max_iter_time = 750\n",
    "\n",
    "k = 2\n",
    "delta_x = 1\n",
    "\n",
    "delta_t = (delta_x ** 2)/(4 * k)\n",
    "gamma = (k * delta_t) / (delta_x ** 2)"
   ]
  },
  {
   "cell_type": "code",
   "execution_count": 3,
   "id": "d225c073-2048-4ebd-aec1-132d52b8bd96",
   "metadata": {},
   "outputs": [],
   "source": [
    "u = np.empty((max_iter_time, plate_length, plate_length))\n",
    "\n",
    "# initial condition\n",
    "u_initial = 0\n",
    "\n",
    "# boundary condition\n",
    "u_top = 100.0\n",
    "u_left = 0.0\n",
    "u_bottom = 0.0\n",
    "u_right = 0.0\n",
    "\n",
    "# set initial and boundary condition\n",
    "u.fill(u_initial)\n",
    "\n",
    "u[:, (plate_length-1):, :] = u_top\n",
    "u[:, :, :1] = u_left\n",
    "u[:, :1, 1:] = u_bottom\n",
    "u[:, :, (plate_length-1):] = u_right"
   ]
  },
  {
   "cell_type": "code",
   "execution_count": 4,
   "id": "2fdc5622-9d25-47bc-a30b-e5c3fb0aacc3",
   "metadata": {},
   "outputs": [],
   "source": [
    "def calculate(u):\n",
    "    for k in range(0, max_iter_time-1, 1):\n",
    "        for i in range(1, plate_length-1, delta_x):\n",
    "            for j in range(1, plate_length-1, delta_x):\n",
    "                u[k + 1, j, i] = gamma * (u[k][j+1][i] + u[k][j-1][i] + u[k][j][i+1] + u[k][j][i-1] - 4*u[k][j][i]) + u[k][j][i]\n",
    "\n",
    "    return u\n",
    "u = calculate(u)"
   ]
  },
  {
   "cell_type": "code",
   "execution_count": 5,
   "id": "1a53ff58-7b9a-4c56-838a-8949f9476437",
   "metadata": {},
   "outputs": [
    {
     "data": {
      "image/png": "[encoded data removed]",
      "text/plain": [
       "<Figure size 432x288 with 2 Axes>"
      ]
     },
     "metadata": {
      "needs_background": "light"
     },
     "output_type": "display_data"
    }
   ],
   "source": []
  },
  {
   "cell_type": "markdown",
   "id": "6e287140-d1b3-40d7-b690-8a703005ff2e",
   "metadata": {},
   "source": [
    "# Periodic Boundary Conditions"
   ]
  },
  {
   "cell_type": "markdown",
   "id": "d7f73ed0-bbdf-42d8-8167-551d79e72ec0",
   "metadata": {},
   "source": [
    "Equation:\n",
    "$$\n",
    "u_{t} = D(u_{xx}+u_{yy})\n",
    "$$\n",
    "Initial Condition:\n",
    "$$\n",
    "u(x, y, 0) = 0\n",
    "$$\n",
    "Boundary Conditions:\n",
    "$$\n",
    "u(x, 0, t) = 0 \\\\\n",
    "u(x, L, t) = 100 \\\\\n",
    "u(0, y, t) = u(L, y, t) \\\\\n",
    "u_{x}(0, y, t) = u_{x}(L, y, t)\n",
    "$$"
   ]
  },
  {
   "cell_type": "code",
   "execution_count": 10,
   "id": "8f2296e2-77a2-4430-8670-d807f5a435f0",
   "metadata": {},
   "outputs": [],
   "source": [
    "u = np.empty((max_iter_time, plate_length, plate_length))\n",
    "\n",
    "# initial condition\n",
    "u_initial = 0\n",
    "\n",
    "# boundary condition\n",
    "u_top = 100.0\n",
    "u_bottom = 0.0\n",
    "\n",
    "# set initial condition\n",
    "u.fill(u_initial)\n",
    "\n",
    "# set boundary condition\n",
    "u[:, (plate_length-1):, :] = u_top\n",
    "u[:, 0, :] = u_bottom"
   ]
  },
  {
   "cell_type": "code",
   "execution_count": 11,
   "id": "f7245fef-b550-4141-bd33-58c5d05811b6",
   "metadata": {},
   "outputs": [],
   "source": []
  },
  {
   "cell_type": "code",
   "execution_count": 12,
   "id": "9c834844-7537-454f-983f-cdb63a0dbcc8",
   "metadata": {},
   "outputs": [
    {
     "data": {
      "image/png": "[encoded data removed]",
      "text/plain": [
       "<Figure size 432x288 with 2 Axes>"
      ]
     },
     "metadata": {
      "needs_background": "light"
     },
     "output_type": "display_data"
    }
   ],
   "source": [
    "anim = animation.FuncAnimation(plt.figure(), animate, interval=1, frames=max_iter_time, repeat=False)\n",
    "anim.save(\"heat_equation_solution_periodict.gif\")"
   ]
  },
  {
   "cell_type": "markdown",
   "id": "60cf413a-9c97-4a50-bf01-e754bcf08316",
   "metadata": {},
   "source": [
    "# Non-zero initial condition"
   ]
  },
  {
   "cell_type": "markdown",
   "id": "ce7608c4-9ae7-4b6c-bba0-23278631f7de",
   "metadata": {},
   "source": [
    "Initial Condition:\n",
    "$$\n",
    "u(x, y, 0) = \\sin \\frac{\\pi y}{L}\n",
    "$$"
   ]
  },
  {
   "cell_type": "code",
   "execution_count": 2,
   "id": "127c7197-229d-451c-8b78-03857830cbda",
   "metadata": {},
   "outputs": [],
   "source": [
    "plate_length = 50\n",
    "max_iter_time = 750\n",
    "\n",
    "k = 2\n",
    "delta_x = 1\n",
    "\n",
    "delta_t = (delta_x ** 2)/(4 * k)\n",
    "gamma = (k * delta_t) / (delta_x ** 2)"
   ]
  },
  {
   "cell_type": "code",
   "execution_count": 347,
   "id": "13e1dab5-192f-4531-9c92-7c2106810c15",
   "metadata": {},
   "outputs": [],
   "source": [
    "u = np.empty((max_iter_time, plate_length, plate_length))\n",
    "\n",
    "# boundary condition\n",
    "u_top = 0.0\n",
    "u_bottom = 0.0\n",
    "\n",
    "# set boundary condition\n",
    "u[:, (plate_length-1):, :] = u_top\n",
    "u[:, 0, :] = u_bottom\n",
    "\n",
    "# set initial conditon\n",
    "temp = np.linspace(1, plate_length-2, plate_length-2)\n",
    "column = np.sin((temp*math.pi)/(plate_length-1))\n",
    "for i in range(plate_length):\n",
    "    u[:,1:plate_length-1,i] = column"
   ]
  },
  {
   "cell_type": "code",
   "execution_count": 348,
   "id": "0e29ab0e-0561-4b56-9983-887d1f1fe5c3",
   "metadata": {},
   "outputs": [
    {
     "data": {
      "text/plain": [
       "<matplotlib.colorbar.Colorbar at 0x7f7f0e4daad0>"
      ]
     },
     "execution_count": 348,
     "metadata": {},
     "output_type": "execute_result"
    },
    {
     "data": {
      "image/png": "[encoded data removed]",
      "text/plain": [
       "<Figure size 432x288 with 2 Axes>"
      ]
     },
     "metadata": {
      "needs_background": "light"
     },
     "output_type": "display_data"
    }
   ],
   "source": [
    "plt.pcolormesh(u[0], cmap=plt.cm.jet, vmin=0, vmax=1)\n",
    "plt.colorbar()"
   ]
  },
  {
   "cell_type": "code",
   "execution_count": 349,
   "id": "d6f2f709-0a1d-4b58-92c8-0a65a2e45a08",
   "metadata": {},
   "outputs": [],
   "source": [
    "u = calculate_periodic(u)"
   ]
  },
  {
   "cell_type": "code",
   "execution_count": 350,
   "id": "ed74c794-db16-438c-919b-2f52a0c6df9e",
   "metadata": {},
   "outputs": [],
   "source": [
    "def plotheatmap(u_k, k, vmin, vmax):\n",
    "    # Clear the current plot figure\n",
    "    plt.clf()\n",
    "\n",
    "    plt.title(f\"Temperature at t = {k*delta_t:.3f} unit time\")\n",
    "    plt.xlabel(\"x\")\n",
    "    plt.ylabel(\"y\")\n",
    "\n",
    "    # This is to plot u_k (u at time-step k)\n",
    "    plt.pcolormesh(u_k, cmap=plt.cm.jet, vmin=0, vmax=1)\n",
    "    plt.colorbar()\n",
    "\n",
    "    return plt\n",
    "\n",
    "def animate(k):\n",
    "    plotheatmap(u[k], k, vmin=0, vmax=100)"
   ]
  },
  {
   "cell_type": "code",
   "execution_count": 351,
   "id": "cec9a469-c7b3-4ca2-ad9b-fe1858364745",
   "metadata": {},
   "outputs": [
    {
     "data": {
      "image/png": "[encoded data removed]",
      "text/plain": [
       "<Figure size 432x288 with 2 Axes>"
      ]
     },
     "metadata": {
      "needs_background": "light"
     },
     "output_type": "display_data"
    }
   ],
   "source": [
    "anim = animation.FuncAnimation(plt.figure(), animate, interval=1, frames=max_iter_time, repeat=False)\n",
    "anim.save(\"heat_equation_solution_3.gif\")"
   ]
  },
  {
   "cell_type": "markdown",
   "id": "b5d5ccd3-f01f-42c8-a8d2-004b0d9e1385",
   "metadata": {},
   "source": [
    "# Solver"
   ]
  },
  {
   "cell_type": "code",
   "execution_count": 621,
   "id": "e86b8aee-2ee4-4a96-89cb-e605420db99a",
   "metadata": {},
   "outputs": [],
   "source": [
    "def jinteger(i):\n",
    "    if str(i).split('.')[-1] =='0':\n",
    "        return True\n",
    "    else:\n",
    "        return False\n",
    "    \n",
    "def plotheatmap(u_k, k, vmin, vmax):\n",
    "    # Clear the current plot figure\n",
    "    plt.clf()\n",
    "\n",
    "    plt.title(f\"Temperature at t = {k*delta_t:.3f} unit time\")\n",
    "    plt.xlabel(\"x\")\n",
    "    plt.ylabel(\"y\")\n",
    "\n",
    "    # This is to plot u_k (u at time-step k)\n",
    "    plt.pcolormesh(u_k, cmap=plt.cm.jet, vmin=0, vmax=1)\n",
    "    plt.colorbar()\n",
    "\n",
    "    return plt\n",
    "\n",
    "class PeriodicSolver:\n",
    "    \n",
    "    def __init__(self, plate_length, max_iter_time, delta_x, k, top, bottom, ic_func):\n",
    "        self.plate_length = plate_length\n",
    "        self.max_iter_time = max_iter_time\n",
    "        self.delta_x = delta_x\n",
    "        self.k = k\n",
    "        self.ic_func = ic_func\n",
    "        \n",
    "        self.delta_t = (self.delta_x )/(4 * self.k * 100)\n",
    "        self.gamma = (self.k * self.delta_t) / (self.delta_x ** 2)\n",
    "        \n",
    "        self.top = top\n",
    "        self.bottom = bottom\n",
    "    \n",
    "    def initialize(self):\n",
    "        if jinteger(self.plate_length/self.delta_x):\n",
    "            self.grid_number = int(self.plate_length/self.delta_x)+1\n",
    "        else:\n",
    "            print('pick another delta x, initialization fails')\n",
    "            return False\n",
    "        self.u = np.empty((self.max_iter_time, self.grid_number, self.grid_number))\n",
    "        return self.u\n",
    "        \n",
    "    def set_initial_conditions(self):\n",
    "        temp = np.linspace(0, self.plate_length, self.grid_number)\n",
    "        column = eval(self.ic_func)\n",
    "        for i in range(self.grid_number):\n",
    "            self.u[:,:,i] = column\n",
    "        return self.u\n",
    "        \n",
    "    def set_boundary_conditions(self):\n",
    "        self.u[:, self.grid_number-1:, :] = self.top\n",
    "        self.u[:, 0, :] = self.bottom\n",
    "        return self.u\n",
    "    \n",
    "    def calculate_periodic(self):\n",
    "        for k in range(0, self.max_iter_time-1):\n",
    "            for i in range(0, self.grid_number-1):\n",
    "                if i==0:\n",
    "                    for j in range(1, self.grid_number-1):\n",
    "                        self.u[k+1, j, i] = self.gamma * (self.u[k][j+1][i] + self.u[k][j-1][i] + self.u[k][j][i+1] + self.u[k][j][self.grid_number-2] - 4*self.u[k][j][i]) + self.u[k][j][i]\n",
    "                        self.u[k+1, j, self.grid_number-1] =  self.u[k+1, j, i]\n",
    "                else:\n",
    "                    for j in range(1, self.grid_number-1):\n",
    "                        self.u[k + 1, j, i] = self.gamma * (self.u[k][j+1][i] + self.u[k][j-1][i] + self.u[k][j][i+1] + self.u[k][j][i-1] - 4*self.u[k][j][i]) + self.u[k][j][i]\n",
    "\n",
    "        return self.u\n",
    "    \n",
    "    def animation(self, file_name):\n",
    "        def _animate(k):\n",
    "            plotheatmap(self.u[k], k, vmin=0, vmax=1)\n",
    "\n",
    "        anim = animation.FuncAnimation(plt.figure(), _animate, interval=1, frames=self.max_iter_time, repeat=False)\n",
    "        anim.save(file_name)\n",
    "        \n",
    "    def compute_sol(self, solutions):\n",
    "        u_true = np.empty((self.max_iter_time, self.grid_number, self.grid_number))\n",
    "        for k in range(self.max_iter_time):\n",
    "            t = k*self.delta_t\n",
    "            y = np.linspace(0, self.plate_length, self.grid_number)\n",
    "            y = eval(solutions)\n",
    "            for i in range(self.grid_number):\n",
    "                u_true[k,:,i] = y\n",
    "        return u_true\n",
    "        \n",
    "    def main(self, animation):\n",
    "        self.initialize()\n",
    "        self.set_initial_conditions()\n",
    "        self.set_boundary_conditions()\n",
    "        self.calculate_periodic() \n",
    "        \n",
    "        if animation != False:\n",
    "            self.animation(animation)\n",
    "        \n",
    "        return self.u"
   ]
  },
  {
   "cell_type": "code",
   "execution_count": 623,
   "id": "0abc7301-6f78-42f1-a73b-1125565ed1dc",
   "metadata": {},
   "outputs": [],
   "source": [
    "delta_x_list = [0.2, 0.02, 0.01, 0.005]\n",
    "max_iter_time_list = [10, 20, 40, 80]\n",
    "for i in range(len(delta_x_list)):\n",
    "    pde = PeriodicSolver(plate_length=1, max_iter_time=max_iter_time_list[i], delta_x=delta_x_list[i], k=2, top=0, bottom=0, ic_func='np.sin((temp*math.pi)/self.plate_length)')\n",
    "    pde.main(animation=False)\n",
    "    pde.copute_col()"
   ]
  },
  {
   "cell_type": "markdown",
   "id": "22da95a2-d896-4cd5-82d3-f5a0db748fda",
   "metadata": {},
   "source": [
    "# 1D Implicit Euler Method"
   ]
  },
  {
   "cell_type": "markdown",
   "id": "34eac10a-1fed-41ec-bd7f-da993d02f365",
   "metadata": {},
   "source": [
    "$$\n",
    "\\begin{cases}\n",
    "u_{t} = u_{xx} \\\\\n",
    "u(0, t) = 0 \\\\\n",
    "u(1, t) = 0 \\\\\n",
    "u(x, 0) = 0.5 \\\\\n",
    "\\end{cases}\n",
    "$$"
   ]
  },
  {
   "cell_type": "markdown",
   "id": "62c96af8-d3f2-45bb-8e4c-d2080c7e9ddb",
   "metadata": {},
   "source": [
    "Implicit Euler Method:\n",
    "$$\n",
    "\\frac{u^{k+1}_{i}-u^{k}_{i}}{\\Delta t} = k\\frac{u_{i+1}^{k+1}-2u_{i}^{k+1}+u_{i-1}^{k+1}}{(\\Delta x)^{2}} \\\\\n",
    "(u^{k+1}_{i}-u^{k}_{i}) = \\frac{k\\Delta t}{(\\Delta x)^{2}}(u_{i+1}^{k+1}-2u_{i}^{k+1}+u_{i-1}^{k+1}) \\\\\n",
    "u^{k+1}_{i} -\\gamma (u_{i+1}^{k+1}-2u_{i}^{k+1}+u_{i-1}^{k+1}) = u^{k}_{i} \\\\\n",
    "-\\gamma u_{i-1}^{k+1} + (1+2\\gamma)u_{i}^{k+1}-\\gamma u_{i+1}^{k+1} = u_{i}^{k}\n",
    "$$\n",
    "where $\\gamma=\\frac{k\\Delta t}{(\\Delta x)^{2}}$"
   ]
  },
  {
   "cell_type": "markdown",
   "id": "0f724eac-f072-49f1-abc2-aa39bb7f6e86",
   "metadata": {},
   "source": [
    "Analytical Solution:\n",
    "$$\n",
    "u(x, t) = \\sum_{n=odd}^{\\infty}\\frac{2}{n\\pi}\\sin(n\\pi x)e^{-(n\\pi)^{2}t}\n",
    "$$"
   ]
  },
  {
   "cell_type": "markdown",
   "id": "fe3eb467-00fd-42b6-bd9f-e8649dba574e",
   "metadata": {},
   "source": [
    "This method is first order in time and second order in space, i.e. if $O(\\Delta t, \\Delta x^{2})$\n",
    "$$\n",
    "Error \\approx C_{1}\\Delta t + C_{2}\\Delta x^{2}\n",
    "$$"
   ]
  },
  {
   "cell_type": "code",
   "execution_count": 43,
   "id": "37d707f3-f4db-485d-9eb6-db61aacc4199",
   "metadata": {},
   "outputs": [],
   "source": [
    "# numerical solver for 1D heat equation with homogeneous Dirichlet boundary condition\n",
    "class OneDBackEulerSolver:\n",
    "    \n",
    "    def __init__(self, plate_length, k, delta_x, delta_t, max_iter_time, left, right, u0):\n",
    "        self.plate_length = plate_length\n",
    "        self.k = k\n",
    "        self.delta_x = delta_x\n",
    "        self.delta_t = delta_t\n",
    "        self.max_iter_time = max_iter_time\n",
    "        self.left = left\n",
    "        self.right = right\n",
    "        self.u0 = u0\n",
    "        \n",
    "        self.gamma = self.k*self.delta_t/(self.delta_x**2)\n",
    "        self.grid_number = int(self.plate_length/self.delta_x)+1\n",
    "        \n",
    "        self.x = np.linspace(0, self.plate_length, self.grid_number)\n",
    "    \n",
    "    def initialize(self):\n",
    "        # initialize matrix A\n",
    "        self.A = np.zeros((self.grid_number-2, self.grid_number-2))\n",
    "        for i in range(self.A.shape[0]):\n",
    "            if i == 0:\n",
    "                self.A[i, i] = 1+2*self.gamma\n",
    "                self.A[i, i+1] = -self.gamma\n",
    "            elif i == self.A.shape[0]-1:\n",
    "                self.A[i, i] = 1+2*self.gamma\n",
    "                self.A[i, i-1] = -self.gamma\n",
    "            else:\n",
    "                self.A[i, i] = 1+2*self.gamma\n",
    "                self.A[i, i-1] = -self.gamma\n",
    "                self.A[i, i+1] = -self.gamma\n",
    "        \n",
    "        self.A_inv = np.linalg.inv(self.A)\n",
    "        \n",
    "        # initialize matrix u\n",
    "        self.u = np.zeros((self.grid_number, self.max_iter_time))\n",
    "        self.u[0, :] = self.left\n",
    "        self.u[-1, :] = self.right\n",
    "        self.u[1:-1, 0] = self.u0\n",
    "        \n",
    "    def calculate(self):\n",
    "        # solve Ax=b\n",
    "        for k in range(1, self.max_iter_time):\n",
    "            temp = self.u[1:-1, k-1]\n",
    "            temp[0] = temp[0] +self.gamma*self.left\n",
    "            temp[-1] = temp[-1] +self.gamma*self.right\n",
    "            self.u[1:-1, k] = np.matmul(self.A_inv, temp)\n",
    "    \n",
    "    def analy_solution(self):\n",
    "        u_analy = np.zeros((self.grid_number, self.max_iter_time))\n",
    "        for k in range(self.max_iter_time):\n",
    "            t = k*self.delta_t\n",
    "            for i in range(1, 101, 2):\n",
    "                # compute bn\n",
    "                #integral = integrate.quad(lambda x: self.u0*np.sin(i*math.pi*x/self.plate_length), 0, self.plate_length)\n",
    "                #bn = 2/self.plate_length*integral[0]\n",
    "                #u_analy[:, k] += bn*np.sin(i*math.pi*self.x)*math.e**(-(i*math.pi)**2*t)\n",
    "                u_analy[:, k] += (2/(i*math.pi))*np.sin(i*math.pi*self.x)*math.e**(-(i*math.pi)**2*t)\n",
    "        return u_analy\n",
    "    \n",
    "    def main(self):\n",
    "        self.initialize()\n",
    "        self.calculate()"
   ]
  },
  {
   "cell_type": "code",
   "execution_count": 44,
   "id": "b6dda96b-50ce-4842-9dfc-3bd9c1af689e",
   "metadata": {},
   "outputs": [
    {
     "data": {
      "text/plain": [
       "[0.003423521480562519,\n",
       " 0.0034286462490270564,\n",
       " 0.0034597487946103067,\n",
       " 0.003621907790144485]"
      ]
     },
     "execution_count": 44,
     "metadata": {},
     "output_type": "execute_result"
    }
   ],
   "source": [
    "delta_x_list = [0.005, 0.01, 0.02, 0.05]\n",
    "t = 20\n",
    "error_list = []\n",
    "for j in range(len(delta_x_list)):\n",
    "    delta_x = delta_x_list[j]\n",
    "    pde = OneDBackEulerSolver(plate_length=1, k=1, delta_x=delta_x, delta_t=0.001, max_iter_time=850, left=0, right=0, u0=0.5)\n",
    "    pde.main()\n",
    "    u = pde.u\n",
    "    u_analy = pde.analy_solution()\n",
    "    e = np.linalg.norm(u_analy[:, t]-u[:, t], ord=np.inf)\n",
    "    #e = sum((u_analy[:, t]-u[:, t])**2)\n",
    "    error_list.append(e)\n",
    "error_list"
   ]
  },
  {
   "cell_type": "code",
   "execution_count": 45,
   "id": "d2b73b51-3ba1-4a18-910d-36181d1f50ca",
   "metadata": {},
   "outputs": [
    {
     "data": {
      "text/plain": [
       "[<matplotlib.lines.Line2D at 0x7fe3263118d0>]"
      ]
     },
     "execution_count": 45,
     "metadata": {},
     "output_type": "execute_result"
    },
    {
     "data": {
      "image/png": "[encoded data removed]",
      "text/plain": [
       "<Figure size 432x288 with 1 Axes>"
      ]
     },
     "metadata": {
      "needs_background": "light"
     },
     "output_type": "display_data"
    }
   ],
   "source": [
    "plt.plot(np.log(delta_x_list), np.log(error_list))"
   ]
  },
  {
   "cell_type": "code",
   "execution_count": 46,
   "id": "a554663d-7195-4775-be97-cf469d70469c",
   "metadata": {},
   "outputs": [
    {
     "data": {
      "text/plain": [
       "LinregressResult(slope=0.024264591995566177, intercept=-5.558017771351195, rvalue=0.8983788854462518, pvalue=0.10162111455374816, stderr=0.008388453152870666, intercept_stderr=0.03597221041591991)"
      ]
     },
     "execution_count": 46,
     "metadata": {},
     "output_type": "execute_result"
    }
   ],
   "source": [
    "linregress(np.log(delta_x_list), np.log(error_list))"
   ]
  },
  {
   "cell_type": "code",
   "execution_count": 50,
   "id": "ee7ef83a-9c38-4671-8d8c-e5d3c7eb59dd",
   "metadata": {},
   "outputs": [
    {
     "data": {
      "text/plain": [
       "[0.0034286462490270564,\n",
       " 0.0028708058283487825,\n",
       " 0.004104867771772214,\n",
       " 0.008010868926631026]"
      ]
     },
     "execution_count": 50,
     "metadata": {},
     "output_type": "execute_result"
    }
   ],
   "source": [
    "delta_t_list = [0.001, 0.002, 0.004, 0.008]\n",
    "t_list = [400, 200, 100, 50]\n",
    "error_list = []\n",
    "for j in range(len(delta_t_list)):\n",
    "    delta_t = delta_t_list[j]\n",
    "    pde = OneDBackEulerSolver(plate_length=1, k=1, delta_x=0.01, delta_t=delta_t, max_iter_time=850, left=0, right=0, u0=0.5)\n",
    "    pde.main()\n",
    "    u = pde.u\n",
    "    u_analy = pde.analy_solution()\n",
    "    e = np.linalg.norm(u_analy[:, t]-u[:, t], ord=np.inf)\n",
    "    #e = sum((u_analy[:, t]-u[:, t])**2)\n",
    "    error_list.append(e)\n",
    "error_list"
   ]
  },
  {
   "cell_type": "code",
   "execution_count": 51,
   "id": "25b790b7-778c-4643-9458-1e4642a63526",
   "metadata": {},
   "outputs": [
    {
     "data": {
      "text/plain": [
       "[<matplotlib.lines.Line2D at 0x7fe326589090>]"
      ]
     },
     "execution_count": 51,
     "metadata": {},
     "output_type": "execute_result"
    },
    {
     "data": {
      "image/png": "[encoded data removed]",
      "text/plain": [
       "<Figure size 432x288 with 1 Axes>"
      ]
     },
     "metadata": {
      "needs_background": "light"
     },
     "output_type": "display_data"
    }
   ],
   "source": [
    "plt.plot(np.log(delta_x_list), np.log(error_list))"
   ]
  },
  {
   "cell_type": "code",
   "execution_count": 52,
   "id": "5988dc1c-3fc9-443c-a10f-d2b526dd159c",
   "metadata": {},
   "outputs": [
    {
     "data": {
      "text/plain": [
       "LinregressResult(slope=0.3954230094804622, intercept=-3.800934461400007, rvalue=0.8676828476420372, pvalue=0.13231715235796274, stderr=0.16019374886836593, intercept_stderr=0.6869589823763707)"
      ]
     },
     "execution_count": 52,
     "metadata": {},
     "output_type": "execute_result"
    }
   ],
   "source": [
    "linregress(np.log(delta_x_list), np.log(error_list))"
   ]
  },
  {
   "cell_type": "markdown",
   "id": "4d62a0e2-377e-4587-87fc-338a2b6ac3c5",
   "metadata": {},
   "source": [
    "# Backward differentiation formula"
   ]
  },
  {
   "cell_type": "markdown",
   "id": "346baace-2e3f-46d4-868c-8d3238f99a79",
   "metadata": {},
   "source": [
    "$$\n",
    "\\frac{3u_{i}^{k+1}-4u_{i}^{k}+u_{i}^{k-1}}{2\\Delta t} = k\\frac{u_{i+1}^{k+1}-2u_{i}^{k+1}+u_{i-1}^{k+1}}{(\\Delta x)^{2}} \\\\\n",
    "3u_{i}^{k+1}-4u_{i}^{k}+u_{i}^{k-1} = \\frac{2k\\Delta t}{(\\Delta x)^{2}}(u_{i+1}^{k+1}-2u_{i}^{k+1}+u_{i-1}^{k+1}) \\\\\n",
    "3u^{k+1}_{i} -\\gamma (u_{i+1}^{k+1}-2u_{i}^{k+1}+u_{i-1}^{k+1}) = 4u^{k}_{i}-u_{i}^{k-1} \\\\\n",
    "-\\gamma u_{i-1}^{k+1} + (3+2\\gamma)u_{i}^{k+1}-\\gamma u_{i+1}^{k+1} = 4u^{k}_{i}-u_{i}^{k-1}\n",
    "$$\n",
    "where $\\gamma = \\frac{2k\\Delta t}{(\\Delta x)^{2}}$"
   ]
  },
  {
   "cell_type": "code",
   "execution_count": 17,
   "id": "22721ea4-cf25-40d3-94ce-f51710e5bb9e",
   "metadata": {},
   "outputs": [],
   "source": [
    "# numerical solver for 1D heat equation with homogeneous Dirichlet boundary condition\n",
    "class OneDBdfSolver:\n",
    "    \n",
    "    def __init__(self, plate_length, k, delta_x, delta_t, max_iter_time, left, right, u0):\n",
    "        self.plate_length = plate_length\n",
    "        self.k = k\n",
    "        self.delta_x = delta_x\n",
    "        self.delta_t = 0.001\n",
    "        self.max_iter_time = max_iter_time\n",
    "        self.left = left\n",
    "        self.right = right\n",
    "        self.u0 = u0\n",
    "        \n",
    "        self.gamma = 2*self.k*self.delta_t/(self.delta_x**2)\n",
    "        self.grid_number = int(self.plate_length/self.delta_x)+1\n",
    "        \n",
    "        self.x = np.linspace(0, self.plate_length, self.grid_number)\n",
    "    \n",
    "    def initialize(self):\n",
    "        # initialize matrix A\n",
    "        self.A = np.zeros((self.grid_number-2, self.grid_number-2))\n",
    "        for i in range(self.A.shape[0]):\n",
    "            if i == 0:\n",
    "                self.A[i, i] = 3+2*self.gamma\n",
    "                self.A[i, i+1] = -self.gamma\n",
    "            elif i == self.A.shape[0]-1:\n",
    "                self.A[i, i] = 3+2*self.gamma\n",
    "                self.A[i, i-1] = -self.gamma\n",
    "            else:\n",
    "                self.A[i, i] = 3+2*self.gamma\n",
    "                self.A[i, i-1] = -self.gamma\n",
    "                self.A[i, i+1] = -self.gamma\n",
    "        \n",
    "        self.A_inv = np.linalg.inv(self.A)\n",
    "        \n",
    "        # initialize matrix u\n",
    "        self.u = np.zeros((self.grid_number, self.max_iter_time))\n",
    "        self.u[0, :] = self.left\n",
    "        self.u[-1, :] = self.right\n",
    "        self.u[1:-1, 0] = self.u0\n",
    "        \n",
    "    def calculate(self):\n",
    "        # use Backward Euler Method to compute u1\n",
    "        pde = OneDBackEulerSolver(plate_length=self.plate_length, k=self.k, delta_x=self.delta_x, delta_t=self.delta_t, max_iter_time=2, left=self.left, right=self.right, u0=self.u0)\n",
    "        pde.main()\n",
    "        self.u[:, 1] = pde.u[:, 1]\n",
    "        \n",
    "        # solve Ax=b\n",
    "        for k in range(2, self.max_iter_time):\n",
    "            temp = 4*self.u[1:-1, k-1] - self.u[1:-1, k-2]\n",
    "            temp[0] = temp[0] +self.gamma*self.left\n",
    "            temp[-1] = temp[-1] +self.gamma*self.right\n",
    "            self.u[1:-1, k] = np.matmul(self.A_inv, temp)\n",
    "    \n",
    "    def analy_solution(self):\n",
    "        u_analy = np.zeros((self.grid_number, self.max_iter_time))\n",
    "        for k in range(self.max_iter_time):\n",
    "            t = k*self.delta_t\n",
    "            for i in range(1, 101, 2):\n",
    "                #integral = integrate.quad(lambda x: self.u0*np.sin(i*math.pi*x/self.plate_length), 0, self.plate_length)\n",
    "                #bn = 2/self.plate_length*integral[0]\n",
    "                #u_analy[:, k] += bn*np.sin(i*math.pi*self.x)*math.e**(-(i*math.pi)**2*t)\n",
    "                u_analy[:, k] += (2/(i*math.pi))*np.sin(i*math.pi*self.x)*math.e**(-(i*math.pi)**2*t)\n",
    "        return u_analy\n",
    "    \n",
    "    def main(self):\n",
    "        self.initialize()\n",
    "        self.calculate()"
   ]
  },
  {
   "cell_type": "code",
   "execution_count": 18,
   "id": "640af881-75c2-42f2-b5e3-736e517a1d41",
   "metadata": {},
   "outputs": [
    {
     "data": {
      "text/plain": [
       "[2.5648828434060578e-06,\n",
       " 7.877343425596872e-06,\n",
       " 2.9120343685254402e-05,\n",
       " 0.000177513759218359]"
      ]
     },
     "execution_count": 18,
     "metadata": {},
     "output_type": "execute_result"
    }
   ],
   "source": [
    "delta_x_list = [0.005, 0.01, 0.02, 0.05]\n",
    "t = 200\n",
    "error_list = []\n",
    "for j in range(len(delta_x_list)):\n",
    "    delta_x = delta_x_list[j]\n",
    "    pde = OneDBdfSolver(plate_length=1, k=1, delta_x=delta_x, delta_t=0, max_iter_time=750, left=0, right=0, u0=0.5)\n",
    "    pde.main()\n",
    "    u = pde.u\n",
    "    u_analy = pde.analy_solution()\n",
    "    e = np.linalg.norm(u_analy[:, t]-u[:, t], ord=np.inf)\n",
    "    #e = sum((u_analy[:, t]-u[:, t])**2)\n",
    "    error_list.append(e)\n",
    "error_list"
   ]
  },
  {
   "cell_type": "code",
   "execution_count": 19,
   "id": "c05fe5aa-6e44-495d-9f29-8f9ad01021a7",
   "metadata": {},
   "outputs": [
    {
     "data": {
      "text/plain": [
       "[<matplotlib.lines.Line2D at 0x7f9b3a8e2390>]"
      ]
     },
     "execution_count": 19,
     "metadata": {},
     "output_type": "execute_result"
    },
    {
     "data": {
      "image/png": "[encoded data removed]",
      "text/plain": [
       "<Figure size 432x288 with 1 Axes>"
      ]
     },
     "metadata": {
      "needs_background": "light"
     },
     "output_type": "display_data"
    }
   ],
   "source": [
    "plt.plot(np.log(delta_x_list), np.log(error_list))"
   ]
  },
  {
   "cell_type": "code",
   "execution_count": 20,
   "id": "24e060ff-046d-4caf-860c-36251fe34bac",
   "metadata": {},
   "outputs": [
    {
     "data": {
      "text/plain": [
       "LinregressResult(slope=1.8492587460643715, intercept=-3.154328931099136, rvalue=0.999036400639596, pvalue=0.0009635993604040211, stderr=0.05744602380598814, intercept_stderr=0.24634583018440925)"
      ]
     },
     "execution_count": 20,
     "metadata": {},
     "output_type": "execute_result"
    }
   ],
   "source": [
    "linregress(np.log(delta_x_list), np.log(error_list))"
   ]
  }
 ],
 "metadata": {
  "kernelspec": {
   "display_name": "Python 3 (ipykernel)",
   "language": "python",
   "name": "python3"
  },
  "language_info": {
   "codemirror_mode": {
    "name": "ipython",
    "version": 3
   },
   "file_extension": ".py",
   "mimetype": "text/x-python",
   "name": "python",
   "nbconvert_exporter": "python",
   "pygments_lexer": "ipython3",
   "version": "3.7.11"
  }
 },
 "nbformat": 4,
 "nbformat_minor": 5
}
