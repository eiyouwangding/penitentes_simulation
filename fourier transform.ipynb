{
 "cells": [
  {
   "cell_type": "code",
   "execution_count": 4,
   "id": "7449e4b4-7f89-4c65-a4df-af3780adb241",
   "metadata": {},
   "outputs": [],
   "source": [
    "import pandas as pd\n",
    "import numpy as np\n",
    "import matplotlib.pyplot as plt\n",
    "import cmath"
   ]
  },
  {
   "cell_type": "markdown",
   "id": "73dd58e5-c34b-4bee-9787-82bb60e749fa",
   "metadata": {
    "tags": []
   },
   "source": [
    "# Fourier Transform"
   ]
  },
  {
   "cell_type": "markdown",
   "id": "b4992463-0487-46e4-a95b-5b6cef0561de",
   "metadata": {
    "tags": []
   },
   "source": [
    "## Fourier Series -> Fourier Transform"
   ]
  },
  {
   "cell_type": "markdown",
   "id": "ba26e9fd-7a85-4e53-a8bf-1e48624471e4",
   "metadata": {},
   "source": [
    "Fourier Series:\n",
    "$$\n",
    "\\begin{align}\n",
    "f(x) &= \\sum_{k=-\\infty}^{\\infty}c_{k}e^{ik\\pi x /L} \\\\\n",
    "c_{k} &= \\frac{1}{2\\pi}<f(x), \\varphi_{x}> = \\frac{1}{2L}\\int_{-L}^{L}f(x)e^{-ik\\pi x/L}dx\n",
    "\\end{align}\n",
    "$$\n",
    "We want to study the Fourier Series when $L \\rightarrow \\infty$. Let \n",
    "$$\\omega_{k}=\\frac{k\\pi}{L}=k\\Delta \\omega \\\\ \\Delta \\omega = \\frac{\\pi}{L}$$\n",
    "Substitute to the Fourier Series, we get\n",
    "$$\n",
    "\\begin{align}\n",
    "f(x) &= \\text{lim}_{\\Delta \\omega\\rightarrow 0} \\sum_{k=-\\infty}^{\\infty}\\frac{\\Delta \\omega}{2\\pi}\\left(\\int_{-\\pi/\\Delta \\omega}^{\\pi/ \\Delta \\omega}f(\\xi)e^{-ik\\Delta \\omega \\xi}d\\xi \\right) e^{ik\\Delta \\omega x} \\\\\n",
    "&= \\int_{-\\infty}^{\\infty}\\frac{1}{2\\pi}\\left(\\int_{-\\infty}^{\\infty}f(\\xi)e^{-i\\omega \\xi}d\\xi\\right) e^{i\\omega x}d\\omega\n",
    "\\end{align}\n",
    "$$\n",
    "Then we get the Fourier Transform Pair\n",
    "$$\n",
    "\\begin{align}\n",
    "\\hat{f}(\\omega) &= F(f(x)) = \\int_{-\\infty}^{\\infty}f(x)e^{-i\\omega x}dx \\\\\n",
    "f(x) &= F^{-1}(\\hat{f}(x)) = \\frac{1}{2\\pi}\\int_{-\\infty}^{\\infty}\\hat{f}(\\omega)e^{i\\omega x} d\\omega\n",
    "\\end{align}\n",
    "$$"
   ]
  },
  {
   "cell_type": "markdown",
   "id": "d1db43b2-f5c4-4d90-b7ff-7286c322be3b",
   "metadata": {},
   "source": [
    "## Fourier Transform and Derivatives"
   ]
  },
  {
   "cell_type": "markdown",
   "id": "4315ba02-289b-48f8-a5ee-065c860329d7",
   "metadata": {},
   "source": [
    "$$\n",
    "\\begin{align}\n",
    "F(\\frac{df(x)}{dx}) &= \\int_{-\\infty}^{\\infty}\\frac{df}{dx}e^{-i\\omega x}dx \\\\\n",
    "&= [f(x)e^{-i\\omega x}]_{-\\infty}^{\\infty}-\\int_{-\\infty}^{\\infty}f(x)(-i\\omega e^{-i\\omega x})dx \\\\\n",
    "&= 0 - \\int_{-\\infty}^{\\infty}f(x)(-i\\omega e^{-i\\omega x})dx \\\\\n",
    "&= i \\omega \\int_{-\\infty}^{\\infty}f(x)e^{-i\\omega x}dx \\\\\n",
    "&= i \\omega F(f(x))\n",
    "\\end{align}\n",
    "$$"
   ]
  },
  {
   "cell_type": "markdown",
   "id": "47fc91fa-3468-4765-8bf2-de55b1daee1c",
   "metadata": {},
   "source": [
    "## Convolution Integrals"
   ]
  },
  {
   "cell_type": "markdown",
   "id": "b85c873a-99b3-4690-8ac6-441cf91d588f",
   "metadata": {},
   "source": [
    "$$\n",
    "\\begin{align}\n",
    "F(fg) &= F(f)F(g) = \\hat{f}\\hat{g} \\\\\n",
    "F^{-1}(\\hat{f}\\hat{g})(x) &= \\frac{1}{2\\pi}\\int_{-\\infty}^{\\infty}\\hat{f}(\\omega)\\hat{g}(\\omega)e^{i\\omega x}d\\omega \\\\\n",
    "&= \\frac{1}{2\\pi}\\int_{-\\infty}^{\\infty}\\hat{f}(\\omega)(\\int_{-\\infty}^{\\infty}g(y)e^{-i\\omega y}dy)e^{i\\omega x}d\\omega \\\\\n",
    "&= \\frac{1}{2\\pi}\\int_{-\\infty}^{\\infty}g(y)\\int_{-\\infty}^{\\infty}\\hat{f}(\\omega)e^{i\\omega(x-y)}d\\omega dy \\\\\n",
    "&= \\int_{-\\infty}^{\\infty}g(y)f(x-y)dy \\\\\n",
    "&= fg\n",
    "\\end{align}\n",
    "$$"
   ]
  },
  {
   "cell_type": "markdown",
   "id": "27379cb9-df17-4371-97a2-557e762ef2f2",
   "metadata": {},
   "source": [
    "## Linearity\n",
    "$$\n",
    "F(\\alpha f(x)+\\beta g(x)) = \\alpha F(f) + \\beta F(g)\n",
    "$$\n",
    "\n",
    "## Parseval's Theorem\n",
    "$$\n",
    "\\int_{-\\infty}^{\\infty} \\mid \\hat{f}(\\omega)\\mid^{2} d\\omega = 2 \\pi \\int_{-\\infty}^{\\infty}\\mid f(x) \\mid^{2} dx\n",
    "$$"
   ]
  },
  {
   "cell_type": "markdown",
   "id": "47ea1ea4-ae0d-4369-9974-ea595ebdd442",
   "metadata": {},
   "source": [
    "## Discrete Fourier Transform (DFT)\n",
    "\n",
    "$$\n",
    "\\begin{align}\n",
    "\\hat{f}_{k} &= \\sum_{j=0}^{n-1}f_{j}e^{-i2\\pi j k/n} \\\\\n",
    "f_{k} &= (\\sum_{j=0}^{n-1}\\hat{f}e^{i2\\pi jk/n})\\frac{1}{n} \\\\\n",
    "\\omega_{n} &= e^{-2\\pi i/n}\n",
    "\\end{align}\n",
    "$$\n",
    "Algorithm Complexity: $O(n^{2})$"
   ]
  },
  {
   "cell_type": "markdown",
   "id": "2480b98a-e125-47ae-ad1a-266de194ba3d",
   "metadata": {},
   "source": [
    "## Fast Fourier Transform (FFT)\n",
    "\n",
    "Algorithm Complexity: $O(n\\log n)$"
   ]
  },
  {
   "cell_type": "markdown",
   "id": "a94e53c7-6e67-4995-90a0-f73fb2d5ed88",
   "metadata": {},
   "source": [
    "## Solving 1D Heat Equation With Fourier Transform\n",
    "\n",
    "$$\n",
    "\\begin{align}\n",
    "F(u(x, t)) &= \\hat{u}(\\kappa, t) \\\\\n",
    "F(u_{x}) &= i \\omega \\hat{u}(\\kappa, t) \\\\\n",
    "F(u_{xx}) &= -\\omega^{2}\\hat{u}(\\kappa, t)\n",
    "\\end{align}\n",
    "$$\n",
    "After Fourier Transform, the pde becomes\n",
    "$$\n",
    "\\begin{align}\n",
    "\\hat{u}_{t} &= -\\kappa^{2}\\alpha^{2}\\hat{u} \\\\\n",
    "\\Rightarrow \\hat{u}(\\kappa, t) &= e^{-\\kappa^{2}\\alpha^{2}t}\\hat{u}(\\kappa, 0) \\\\\n",
    "\\Rightarrow u(x, t) &= F^{-1}(\\hat{u}(\\kappa, t)) = F^{-1}(e^{-\\kappa^{2}\\alpha^{2}t})u(x, 0)\n",
    "\\end{align}\n",
    "$$"
   ]
  },
  {
   "cell_type": "markdown",
   "id": "a0f54ff9-d871-4e44-901b-73294ac2aa22",
   "metadata": {},
   "source": [
    "## Solving 2D Heat Equation With FFT"
   ]
  },
  {
   "cell_type": "markdown",
   "id": "56bdaf4e-8f14-4248-9239-a5c9e7c1d2db",
   "metadata": {},
   "source": [
    "$$\n",
    "u_{t} = k(u_{xx}+u_{yy}) \\\\\n",
    "\\hat{u}(t) = k\\hat{u}_{yy}-\\omega^{2}\\hat{u}\n",
    "$$"
   ]
  },
  {
   "cell_type": "code",
   "execution_count": null,
   "id": "eeebd100-5ad1-4466-bb48-a8b3f3ef5b04",
   "metadata": {},
   "outputs": [],
   "source": [
    "def jinteger(i):\n",
    "    if str(i).split('.')[-1] =='0':\n",
    "        return True\n",
    "    else:\n",
    "        return False\n",
    "    \n",
    "def plotheatmap(u_k, k, vmin, vmax):\n",
    "    # Clear the current plot figure\n",
    "    plt.clf()\n",
    "\n",
    "    plt.title(f\"Temperature at t = {k*delta_t:.3f} unit time\")\n",
    "    plt.xlabel(\"x\")\n",
    "    plt.ylabel(\"y\")\n",
    "\n",
    "    # This is to plot u_k (u at time-step k)\n",
    "    plt.pcolormesh(u_k, cmap=plt.cm.jet, vmin=0, vmax=1)\n",
    "    plt.colorbar()\n",
    "\n",
    "    return plt\n",
    "\n",
    "class PeriodicSolver:\n",
    "    \n",
    "    def __init__(self, plate_length, max_iter_time, delta_x, k, top, bottom, ic_func):\n",
    "        self.plate_length = plate_length\n",
    "        self.max_iter_time = max_iter_time\n",
    "        self.delta_x = delta_x\n",
    "        self.k = k\n",
    "        self.ic_func = ic_func\n",
    "        \n",
    "        self.delta_t = (self.delta_x )/(4 * self.k * 100)\n",
    "        self.gamma = (self.k * self.delta_t) / (self.delta_x ** 2)\n",
    "        \n",
    "        self.top = top\n",
    "        self.bottom = bottom\n",
    "    \n",
    "    def initialize(self):\n",
    "        if jinteger(self.plate_length/self.delta_x):\n",
    "            self.grid_number = int(self.plate_length/self.delta_x)+1\n",
    "        else:\n",
    "            print('pick another delta x, initialization fails')\n",
    "            return False\n",
    "        self.u = np.empty((self.max_iter_time, self.grid_number, self.grid_number))\n",
    "        return self.u\n",
    "        \n",
    "    def set_initial_conditions(self):\n",
    "        temp = np.linspace(0, self.plate_length, self.grid_number)\n",
    "        column = eval(self.ic_func)\n",
    "        for i in range(self.grid_number):\n",
    "            self.u[:,:,i] = column\n",
    "        return self.u\n",
    "        \n",
    "    def set_boundary_conditions(self):\n",
    "        self.u[:, self.grid_number-1:, :] = self.top\n",
    "        self.u[:, 0, :] = self.bottom\n",
    "        return self.u\n",
    "    \n",
    "    def calculate_periodic(self):\n",
    "        for k in range(0, self.max_iter_time-1):\n",
    "            for i in range(0, self.grid_number-1):\n",
    "                if i==0:\n",
    "                    for j in range(1, self.grid_number-1):\n",
    "                        self.u[k+1, j, i] = self.gamma * (self.u[k][j+1][i] + self.u[k][j-1][i] + self.u[k][j][i+1] + self.u[k][j][self.grid_number-2] - 4*self.u[k][j][i]) + self.u[k][j][i]\n",
    "                        self.u[k+1, j, self.grid_number-1] =  self.u[k+1, j, i]\n",
    "                else:\n",
    "                    for j in range(1, self.grid_number-1):\n",
    "                        self.u[k + 1, j, i] = self.gamma * (self.u[k][j+1][i] + self.u[k][j-1][i] + self.u[k][j][i+1] + self.u[k][j][i-1] - 4*self.u[k][j][i]) + self.u[k][j][i]\n",
    "\n",
    "        return self.u\n",
    "    \n",
    "    def animation(self, file_name):\n",
    "        def _animate(k):\n",
    "            plotheatmap(self.u[k], k, vmin=0, vmax=1)\n",
    "\n",
    "        anim = animation.FuncAnimation(plt.figure(), _animate, interval=1, frames=self.max_iter_time, repeat=False)\n",
    "        anim.save(file_name)\n",
    "        \n",
    "    def compute_sol(self, solutions):\n",
    "        u_true = np.empty((self.max_iter_time, self.grid_number, self.grid_number))\n",
    "        for k in range(self.max_iter_time):\n",
    "            t = k*self.delta_t\n",
    "            y = np.linspace(0, self.plate_length, self.grid_number)\n",
    "            y = eval(solutions)\n",
    "            for i in range(self.grid_number):\n",
    "                u_true[k,:,i] = y\n",
    "        return u_true\n",
    "        \n",
    "    def main(self, animation):\n",
    "        self.initialize()\n",
    "        self.set_initial_conditions()\n",
    "        self.set_boundary_conditions()\n",
    "        self.calculate_periodic() \n",
    "        \n",
    "        if animation != False:\n",
    "            self.animation(animation)\n",
    "        \n",
    "        return self.u"
   ]
  }
 ],
 "metadata": {
  "kernelspec": {
   "display_name": "Python 3 (ipykernel)",
   "language": "python",
   "name": "python3"
  },
  "language_info": {
   "codemirror_mode": {
    "name": "ipython",
    "version": 3
   },
   "file_extension": ".py",
   "mimetype": "text/x-python",
   "name": "python",
   "nbconvert_exporter": "python",
   "pygments_lexer": "ipython3",
   "version": "3.7.11"
  }
 },
 "nbformat": 4,
 "nbformat_minor": 5
}
